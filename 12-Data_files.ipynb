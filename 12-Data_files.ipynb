{
 "cells": [
  {
   "cell_type": "markdown",
   "id": "9ed2554e",
   "metadata": {},
   "source": [
    "# Data files"
   ]
  },
  {
   "cell_type": "markdown",
   "id": "0883f550",
   "metadata": {},
   "source": [
    "### file system in python \n",
    "### reading and writing files \n",
    "### writting : append mode and overwriting mode \n",
    "### sequencial file : read each line from start to end \n",
    "### need a line terminater \n",
    "### direct or random mode "
   ]
  },
  {
   "cell_type": "code",
   "execution_count": 7,
   "id": "865935b0",
   "metadata": {},
   "outputs": [
    {
     "name": "stdout",
     "output_type": "stream",
     "text": [
      " Volume in drive C has no label.\n",
      " Volume Serial Number is 8C2A-28D3\n",
      "\n",
      " Directory of C:\\Users\\DELL\\Documents\\GitHub\\AI-Piaic\\Python Basic\n",
      "\n"
     ]
    },
    {
     "name": "stderr",
     "output_type": "stream",
     "text": [
      "File Not Found\n"
     ]
    }
   ],
   "source": [
    "ls -haltr"
   ]
  },
  {
   "cell_type": "code",
   "execution_count": 28,
   "id": "67e1f1cb",
   "metadata": {},
   "outputs": [],
   "source": [
    "# ls"
   ]
  },
  {
   "cell_type": "code",
   "execution_count": 29,
   "id": "77a04de6",
   "metadata": {},
   "outputs": [],
   "source": [
    "# !dir"
   ]
  },
  {
   "cell_type": "code",
   "execution_count": 2,
   "id": "379a4199",
   "metadata": {},
   "outputs": [],
   "source": [
    "with open(\"whatever.txt\", \"w\") as file_to_work_with:\n",
    "    # file_to_work is called file_handle\n",
    "    file_to_work_with.write(\"Hello Wolrd\")\n",
    "    # fill will close automatically here"
   ]
  },
  {
   "cell_type": "code",
   "execution_count": 3,
   "id": "053ba20c",
   "metadata": {},
   "outputs": [],
   "source": [
    "gretings = \"\"\"\n",
    "In all the coding so far in this book, none of the data has been preserved. We\n",
    "created variables, lists, dictionaries, and class instances that contained\n",
    "information, but as soon as the computer was turned off, all of it disappeared.\n",
    "\"\"\"\n",
    "\n",
    "with open(\"whatever.txt\", \"w\") as file_to_work_with:\n",
    "    \n",
    "    file_to_work_with.write(gretings)"
   ]
  },
  {
   "cell_type": "code",
   "execution_count": 10,
   "id": "9f18dc64",
   "metadata": {},
   "outputs": [
    {
     "name": "stdout",
     "output_type": "stream",
     "text": [
      "\n",
      "In all the coding so far in this book, none of the data has been preserved. We\n",
      "created variables, lists, dictionaries, and class instances that contained\n",
      "information, but as soon as the computer was turned off, all of it disappeared.\n",
      "\n",
      "\n",
      "\n"
     ]
    }
   ],
   "source": [
    "with open(\"whatever.txt\", \"r\") as file_to_work_with:\n",
    "    text_of_file = file_to_work_with.read()\n",
    "    print(text_of_file)"
   ]
  },
  {
   "cell_type": "code",
   "execution_count": 9,
   "id": "38a0d1f5",
   "metadata": {},
   "outputs": [
    {
     "name": "stdout",
     "output_type": "stream",
     "text": [
      "\n",
      "In all the coding so far in this book, none of the data has been preserved. We\n",
      "created variables, lists, dictionaries, and class instances that contained\n",
      "information, but as soon as the computer was turned off, all of it disappeared.\n",
      "\n",
      "\n",
      "\n",
      "['In', 'all', 'the', 'coding', 'so', 'far', 'in', 'this', 'book,', 'none', 'of', 'the', 'data', 'has', 'been', 'preserved.', 'We', 'created', 'variables,', 'lists,', 'dictionaries,', 'and', 'class', 'instances', 'that', 'contained', 'information,', 'but', 'as', 'soon', 'as', 'the', 'computer', 'was', 'turned', 'off,', 'all', 'of', 'it', 'disappeared.']\n"
     ]
    }
   ],
   "source": [
    "with open(\"whatever.txt\", \"r\") as file_to_work_with:\n",
    "    text_of_file = file_to_work_with.read()\n",
    "    print(text_of_file)\n",
    "    lines = text_of_file.split()\n",
    "    print(lines)"
   ]
  },
  {
   "cell_type": "code",
   "execution_count": 13,
   "id": "c339b85a",
   "metadata": {},
   "outputs": [
    {
     "name": "stdout",
     "output_type": "stream",
     "text": [
      "\n",
      "In all the coding so far in this book, none of the data has been preserved. We\n",
      "created variables, lists, dictionaries, and class instances that contained\n",
      "information, but as soon as the computer was turned off, all of it disappeared.\n",
      "\n",
      "\n",
      "\n",
      "line: 0 counter: In\n",
      "line: 1 counter: all\n",
      "line: 2 counter: the\n",
      "line: 3 counter: coding\n",
      "line: 4 counter: so\n",
      "line: 5 counter: far\n",
      "line: 6 counter: in\n",
      "line: 7 counter: this\n",
      "line: 8 counter: book,\n",
      "line: 9 counter: none\n",
      "line: 10 counter: of\n",
      "line: 11 counter: the\n",
      "line: 12 counter: data\n",
      "line: 13 counter: has\n",
      "line: 14 counter: been\n",
      "line: 15 counter: preserved.\n",
      "line: 16 counter: We\n",
      "line: 17 counter: created\n",
      "line: 18 counter: variables,\n",
      "line: 19 counter: lists,\n",
      "line: 20 counter: dictionaries,\n",
      "line: 21 counter: and\n",
      "line: 22 counter: class\n",
      "line: 23 counter: instances\n",
      "line: 24 counter: that\n",
      "line: 25 counter: contained\n",
      "line: 26 counter: information,\n",
      "line: 27 counter: but\n",
      "line: 28 counter: as\n",
      "line: 29 counter: soon\n",
      "line: 30 counter: as\n",
      "line: 31 counter: the\n",
      "line: 32 counter: computer\n",
      "line: 33 counter: was\n",
      "line: 34 counter: turned\n",
      "line: 35 counter: off,\n",
      "line: 36 counter: all\n",
      "line: 37 counter: of\n",
      "line: 38 counter: it\n",
      "line: 39 counter: disappeared.\n"
     ]
    }
   ],
   "source": [
    "with open(\"whatever.txt\", \"r\") as file_to_work_with:\n",
    "    text_of_file = file_to_work_with.read()\n",
    "    print(text_of_file)\n",
    "    lines = text_of_file.split()\n",
    "    for counter, line in enumerate(lines):\n",
    "        print(\"line:\", counter,\"counter:\",line)"
   ]
  },
  {
   "cell_type": "code",
   "execution_count": 14,
   "id": "e8a1b5de",
   "metadata": {},
   "outputs": [
    {
     "name": "stdout",
     "output_type": "stream",
     "text": [
      "\n",
      "In all the coding so far in this book, none of the data has been preserved. We\n",
      "created variables, lists, dictionaries, and class instances that contained\n",
      "information, but as soon as the computer was turned off, all of it disappeared.\n",
      "\n",
      "\n",
      "\n",
      "line: 0 counter: \n",
      "line: 1 counter: In all the coding so far in this book, none of the data has been preserved. We\n",
      "line: 2 counter: created variables, lists, dictionaries, and class instances that contained\n",
      "line: 3 counter: information, but as soon as the computer was turned off, all of it disappeared.\n",
      "line: 4 counter: \n",
      "line: 5 counter: \n",
      "line: 6 counter: \n"
     ]
    }
   ],
   "source": [
    "with open(\"whatever.txt\", \"r\") as file_to_work_with:\n",
    "    text_of_file = file_to_work_with.read()\n",
    "    print(text_of_file)\n",
    "    lines = text_of_file.split(\"\\n\")\n",
    "    for counter, line in enumerate(lines):\n",
    "        print(\"line:\", counter,\"counter:\",line)"
   ]
  },
  {
   "cell_type": "markdown",
   "id": "d906dfea",
   "metadata": {},
   "source": [
    "When you specify \"w\" \\\n",
    "…the data that you write to the file overwrites any data that the file already contains. \\\n",
    "To append data to a file while preserving existing data in the file, you\n",
    "write… \\\n",
    "with open(\"greet.txt\", \"a\") as f:"
   ]
  },
  {
   "cell_type": "code",
   "execution_count": null,
   "id": "49494482",
   "metadata": {},
   "outputs": [],
   "source": []
  },
  {
   "cell_type": "code",
   "execution_count": null,
   "id": "4de0c69b",
   "metadata": {},
   "outputs": [],
   "source": []
  },
  {
   "cell_type": "code",
   "execution_count": 19,
   "id": "ff6ec205",
   "metadata": {},
   "outputs": [],
   "source": [
    "# import csv\n",
    "# with open(\"data1.csv\") as f:\n",
    "#   contents_of_file = csv.reader(f)\n",
    "#   potter_competitions = []\n",
    "#   for each_line in contents_of_file:\n",
    "#     potter_competitions += each_line\n",
    "\n",
    "# print(potter_competitions)    \n"
   ]
  },
  {
   "cell_type": "code",
   "execution_count": null,
   "id": "46ac38aa",
   "metadata": {},
   "outputs": [],
   "source": [
    "  \n",
    "#   import csv\n",
    "#   with open(\"whatever.csv\", \"w\", newline=\"\") as f:\n",
    "#     data_handler = csv.writer(f, delimiter=\",\")\n",
    "#     data_handler.writerow([\"Year\", \"Event\", \"Winner\"])\n",
    "#     data_handler.writerow([\"1995\", \"Best-Kept Lawn\", \"None\"])\n",
    "#     data_handler.writerow([\"1999\", \"Gobstones\",\"Welch National\"])\n"
   ]
  },
  {
   "cell_type": "code",
   "execution_count": null,
   "id": "878d8970",
   "metadata": {},
   "outputs": [],
   "source": [
    "# alphabet_letters = [\"a\", \"b\", \"c\"]\n",
    "# with open(\"alphabet_list.txt\", \"w\") as f:\n",
    "#   f.write(str(alphabet_letters))\n",
    "\n",
    "# data = str(alphabet_letters)\n",
    "# print(data)\n",
    "# alphabet_letters = data.split(\",\")\n",
    "# print(alphabet_letters)\n",
    "# for dt in alphabet_letters:\n",
    "#   print(data)\n"
   ]
  },
  {
   "cell_type": "code",
   "execution_count": 20,
   "id": "3e982589",
   "metadata": {},
   "outputs": [],
   "source": [
    "# import json\n",
    "# alphabet_letters = [\"a\", \"b\", \"c\"]\n",
    "# with open(\"alphabet_list.txt\", \"w\") as f:\n",
    "#   json.dump(alphabet_letters, f)\n",
    "\n",
    "# with open(\"alphabet_list.txt\", \"r\") as f:\n",
    "#   data = json.load(f)\n",
    "\n",
    "# print(type(data), data)"
   ]
  },
  {
   "cell_type": "code",
   "execution_count": 21,
   "id": "464307d2",
   "metadata": {},
   "outputs": [],
   "source": [
    "csv_data = [\n",
    "    ['Year','Event','Winner'],\n",
    "    [1995,'Best Kept Lawn','None'],\n",
    "    [1999,'Gobstones','Welch National'],\n",
    "    [2006,'World Cup','Burkina-Faso']\n",
    "           ]"
   ]
  },
  {
   "cell_type": "code",
   "execution_count": 22,
   "id": "521855dd",
   "metadata": {},
   "outputs": [
    {
     "name": "stdout",
     "output_type": "stream",
     "text": [
      "[['Year', 'Event', 'Winner'], [1995, 'Best Kept Lawn', 'None'], [1999, 'Gobstones', 'Welch National'], [2006, 'World Cup', 'Burkina-Faso']]\n"
     ]
    }
   ],
   "source": [
    "print(csv_data)"
   ]
  },
  {
   "cell_type": "code",
   "execution_count": 24,
   "id": "b911bff3",
   "metadata": {},
   "outputs": [],
   "source": [
    "import csv\n",
    "with open('csvdata.csv', 'w') as f:\n",
    "    f.write(str(csv_data))"
   ]
  },
  {
   "cell_type": "code",
   "execution_count": null,
   "id": "601c1812",
   "metadata": {},
   "outputs": [],
   "source": []
  },
  {
   "cell_type": "code",
   "execution_count": 31,
   "id": "e827a81a",
   "metadata": {},
   "outputs": [
    {
     "name": "stdout",
     "output_type": "stream",
     "text": [
      "<class 'list'> ['a', 'b', 'c', 'd']\n"
     ]
    }
   ],
   "source": [
    "import json\n",
    "abcd = ['a','b','c','d']\n",
    "with open('abcd.json', 'w') as f:\n",
    "    json.dump(abcd, f)\n",
    "    \n",
    "with open('abcd.json', 'r') as f:\n",
    "    data = json.load(f)\n",
    "    \n",
    "print(type(data), data)"
   ]
  },
  {
   "cell_type": "code",
   "execution_count": 34,
   "id": "5f3535fc",
   "metadata": {},
   "outputs": [
    {
     "name": "stdout",
     "output_type": "stream",
     "text": [
      "<class 'dict'> {'first name': 'David', 'last name': 'Elliott', 'address': '4803 Wellesley St.'}\n"
     ]
    }
   ],
   "source": [
    "import json\n",
    "customer_29876 = {\"first name\": \"David\",\n",
    "                  \"last name\": \"Elliott\",\n",
    "                  \"address\": \"4803 Wellesley St.\"\n",
    "                 }\n",
    "with open(\"customer_dictionary.json\", 'w') as f:\n",
    "    json.dump(customer_29876, f)\n",
    "    \n",
    "with open('customer_dictionary.json', 'r') as f:\n",
    "    data = json.load(f)\n",
    "    \n",
    "print(type(data), data)"
   ]
  },
  {
   "cell_type": "code",
   "execution_count": 44,
   "id": "f3608978",
   "metadata": {},
   "outputs": [
    {
     "name": "stdout",
     "output_type": "stream",
     "text": [
      "hero Name: Molecule Man \n",
      " powers: ['Radiation resistance', 'Turning tiny', 'Radiation blast']\n",
      "hero Name: Madame Uppercut \n",
      " powers: ['Million tonne punch', 'Damage resistance', 'Superhuman reflexes']\n"
     ]
    }
   ],
   "source": [
    "super_heros = [\n",
    "  {\n",
    "    \"name\": \"Molecule Man\",\n",
    "    \"age\": 29,\n",
    "    \"secretIdentity\": \"Dan Jukes\",\n",
    "    \"powers\": [\"Radiation resistance\", \"Turning tiny\", \"Radiation blast\"]\n",
    "  },\n",
    "  {\n",
    "    \"name\": \"Madame Uppercut\",\n",
    "    \"age\": 39,\n",
    "    \"secretIdentity\": \"Jane Wilson\",\n",
    "    \"powers\": [\n",
    "      \"Million tonne punch\",\n",
    "      \"Damage resistance\",\n",
    "      \"Superhuman reflexes\"\n",
    "    ]\n",
    "  }\n",
    "]\n",
    "\n",
    "with open(\"super_heros.json\", 'w') as f:\n",
    "    json.dump(super_heros, f)\n",
    "    \n",
    "with open('super_heros.json', 'r') as f:\n",
    "    heros = json.load(f)\n",
    "    \n",
    "# print(type(data), data)\n",
    "\n",
    "\n",
    "# for element in heros:\n",
    "#     print(element)\n",
    "\n",
    "# for element in heros:\n",
    "#     print(element, \"\\n\")\n",
    "\n",
    "for element in heros:\n",
    "    print(\"hero Name:\", element[\"name\"],\"\\n\", \"powers:\", element[\"powers\"])\n"
   ]
  },
  {
   "cell_type": "code",
   "execution_count": 47,
   "id": "db0082eb",
   "metadata": {},
   "outputs": [
    {
     "name": "stdout",
     "output_type": "stream",
     "text": [
      "What text file to open? customer_dictionary.json\n",
      "{\"first name\": \"David\", \"last name\": \"Elliott\", \"address\": \"4803 Wellesley St.\"}\n"
     ]
    }
   ],
   "source": [
    "filename = input(\"What text file to open? \")\n",
    "with open(filename) as f:\n",
    "  print(f.read())"
   ]
  },
  {
   "cell_type": "code",
   "execution_count": 1,
   "id": "1fb41cab",
   "metadata": {},
   "outputs": [
    {
     "name": "stdout",
     "output_type": "stream",
     "text": [
      "provide valid file name or enter q to terminate\n",
      "What text file to open? abcd\n",
      "Sorry, abcd not found.\n",
      "provide valid file name or enter q to terminate\n",
      "What text file to open? super_heros.json\n",
      "[{\"name\": \"Molecule Man\", \"age\": 29, \"secretIdentity\": \"Dan Jukes\", \"powers\": [\"Radiation resistance\", \"Turning tiny\", \"Radiation blast\"]}, {\"name\": \"Madame Uppercut\", \"age\": 39, \"secretIdentity\": \"Jane Wilson\", \"powers\": [\"Million tonne punch\", \"Damage resistance\", \"Superhuman reflexes\"]}]\n",
      "provide valid file name or enter q to terminate\n",
      "What text file to open? q\n",
      "program endds sucesslfully \n"
     ]
    }
   ],
   "source": [
    "filename = \"\"\n",
    "while filename != \"q\":\n",
    "  print(\"provide valid file name or enter q to terminate\")\n",
    "  filename = input(\"What text file to open? \")\n",
    "  if filename !=\"q\":\n",
    "    try:\n",
    "      with open(filename) as f:\n",
    "        print(f.read())\n",
    "    except FileNotFoundError:\n",
    "      print(\"Sorry, \" + filename + \" not found.\")    \n",
    "    #except Exception as e:\n",
    "    #  print(\"unkonw exception\", e)\n",
    "print(\"program endds sucesslfully \")  "
   ]
  },
  {
   "cell_type": "code",
   "execution_count": null,
   "id": "75b08184",
   "metadata": {},
   "outputs": [],
   "source": []
  }
 ],
 "metadata": {
  "kernelspec": {
   "display_name": "Python 3",
   "language": "python",
   "name": "python3"
  },
  "language_info": {
   "codemirror_mode": {
    "name": "ipython",
    "version": 3
   },
   "file_extension": ".py",
   "mimetype": "text/x-python",
   "name": "python",
   "nbconvert_exporter": "python",
   "pygments_lexer": "ipython3",
   "version": "3.11.1 (tags/v3.11.1:a7a450f, Dec  6 2022, 19:58:39) [MSC v.1934 64 bit (AMD64)]"
  },
  "vscode": {
   "interpreter": {
    "hash": "0feef0e1e3e5a3f2472db632a6a6c1299f4965094b819eb5cea40f64390ca82a"
   }
  }
 },
 "nbformat": 4,
 "nbformat_minor": 5
}
