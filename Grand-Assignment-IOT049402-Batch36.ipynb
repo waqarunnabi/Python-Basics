{
 "cells": [
  {
   "cell_type": "markdown",
   "metadata": {},
   "source": [
    "# Student Name: SYED WAQAR UN NABI\n",
    "# IOT049402 Q1 - BATCH - 36\n",
    "# Sir Anees / Miss Komal\n",
    "# UIT - Sunday "
   ]
  },
  {
   "cell_type": "markdown",
   "metadata": {
    "id": "Hs3-rqQLaMOs"
   },
   "source": [
    "**Grand Assignment**"
   ]
  },
  {
   "cell_type": "markdown",
   "metadata": {
    "id": "yoFPv_Hcb3Iv"
   },
   "source": [
    "***Variables and Strings***"
   ]
  },
  {
   "cell_type": "markdown",
   "metadata": {
    "id": "XLAWmJh_b9vr"
   },
   "source": [
    "*1.**Simple Message:** Assign a message to a variable, and then print that\n",
    "message.* "
   ]
  },
  {
   "cell_type": "code",
   "execution_count": 4,
   "metadata": {
    "id": "Xu9FoVk1aKtu"
   },
   "outputs": [
    {
     "name": "stdout",
     "output_type": "stream",
     "text": [
      "Hello World\n"
     ]
    }
   ],
   "source": [
    "a = \"Hello World\"\n",
    "print(a)"
   ]
  },
  {
   "cell_type": "markdown",
   "metadata": {
    "id": "Ckp41qGzcMhY"
   },
   "source": [
    "2.Find a quote from a famous person you admire. Print the\n",
    "quote and the name of its author. Your output should look something like the\n",
    "following, including the quotation marks:\n",
    "\n",
    "**Albert Einstein once said, “A person who never made a\n",
    "mistake never tried anything new.”**\n"
   ]
  },
  {
   "cell_type": "code",
   "execution_count": 5,
   "metadata": {
    "id": "RAOYKTZDc9l5"
   },
   "outputs": [
    {
     "name": "stdout",
     "output_type": "stream",
     "text": [
      "Albert Einstein once said, \" A person who never made a mistake never tried anything new. \"\n"
     ]
    }
   ],
   "source": [
    "fav_quote = 'A person who never made a mistake never tried anything new.'\n",
    "print(\"Albert Einstein once said,\",'\"',fav_quote,'\"')"
   ]
  },
  {
   "cell_type": "markdown",
   "metadata": {
    "id": "5dsWBIrAduRU"
   },
   "source": [
    "*3. Use a variable to represent your favorite number. Then,\n",
    "using that variable, create a message that reveals your favorite number. Print\n",
    "that message*"
   ]
  },
  {
   "cell_type": "code",
   "execution_count": null,
   "metadata": {
    "id": "n5bKUt2Xdxet"
   },
   "outputs": [],
   "source": []
  },
  {
   "cell_type": "markdown",
   "metadata": {
    "id": "03-7JmJFh1gu"
   },
   "source": [
    "4. **Calculate Area of a Circle::**\n",
    "\n",
    "Write a Python program which accepts the radius of a circle from the user and compute the area.\n",
    "\n",
    "Program Console Sample Output 1:\n",
    "\n",
    "Input Radius: 0.5\n",
    "\n",
    "Area of Circle with radius 0.5 is 0.7853981634"
   ]
  },
  {
   "cell_type": "code",
   "execution_count": 6,
   "metadata": {
    "id": "ZQqUhli7iD8V"
   },
   "outputs": [
    {
     "name": "stdout",
     "output_type": "stream",
     "text": [
      "Enter the radius: 3\n",
      "Area of Circle with 3.0 is 28.278\n"
     ]
    }
   ],
   "source": [
    "# area = pi x rxr\n",
    "radius = float(input('Enter the radius: '))\n",
    "pi = 3.142\n",
    "area = pi * radius**2\n",
    "print('Area of Circle with', radius, 'is', area)"
   ]
  },
  {
   "cell_type": "markdown",
   "metadata": {
    "id": "_52LUHoriEdK"
   },
   "source": [
    "5. **Check Number either positive, negative or zero::**\n",
    "\n",
    "Write a Python program to check if a number is positive, \n",
    "\n",
    "negative or zero\n",
    "\n",
    "Program Console Sample Output 1:\n",
    "\n",
    "Enter Number: -1\n",
    "\n",
    "Negative Number Entered\n",
    "\n",
    "Program Console Sample Output 2:\n",
    "\n",
    "Integer: 3\n",
    "\n",
    "Positive Number Entered\n",
    "\n",
    "Program Console Sample Output 3:\n",
    "\n",
    "Integer: 0\n",
    "\n",
    "Zero Entered"
   ]
  },
  {
   "cell_type": "code",
   "execution_count": 7,
   "metadata": {
    "id": "_yLJAc80iXk0"
   },
   "outputs": [
    {
     "name": "stdout",
     "output_type": "stream",
     "text": [
      "Enter the Number: 5\n",
      "Positive Number Entered\n"
     ]
    }
   ],
   "source": [
    "num = float(input(\"Enter the Number: \"))\n",
    "if num > 0:\n",
    "    print(\"Positive Number Entered\")\n",
    "elif num < 0:\n",
    "    print(\"Negative Number Entered\")\n",
    "else: \n",
    "    print('Zero Entered')"
   ]
  },
  {
   "cell_type": "markdown",
   "metadata": {
    "id": "vjXA6uhpiYQX"
   },
   "source": [
    "6. **Vowel Tester**\n",
    "Write a Python program to test whether a passed letter is a vowel or not\n",
    "\n",
    "Program Console Output 1:\n",
    "\n",
    "Enter a character: A\n",
    "\n",
    "Letter A is Vowel\n",
    "\n",
    "Program Console Output 2:\n",
    "\n",
    "Enter a character: e\n",
    "\n",
    "Letter e is Vowel\n",
    "\n",
    "Program Console Output 2:\n",
    "\n",
    "Enter a character: N\n",
    "\n",
    "Letter N is not Vowel."
   ]
  },
  {
   "cell_type": "code",
   "execution_count": 9,
   "metadata": {
    "id": "L62zqtG1jEb9"
   },
   "outputs": [
    {
     "name": "stdout",
     "output_type": "stream",
     "text": [
      "Enter a Character: a\n",
      "Letter a is Vowel\n"
     ]
    }
   ],
   "source": [
    "char = input('Enter a Character: ')\n",
    "if char in (\"a\",\"e\",\"i\",\"o\",\"u\",\"A\",\"E\",\"I\",\"O\",\"U\"):\n",
    "    print('Letter',char, 'is', 'Vowel')\n",
    "else:\n",
    "    print('Letter',char, 'is', 'Not Vowel')"
   ]
  },
  {
   "cell_type": "markdown",
   "metadata": {
    "id": "qZIGjsnDjFdk"
   },
   "source": [
    "7. **BMI Calculator**\n",
    "\n",
    "Write a Python program to calculate body mass index\n",
    "Program Console Sample 1:\n",
    "\n",
    "Enter Height in Cm: 180\n",
    "\n",
    "Enter Weight in Kg: 75\n",
    "\n",
    "Your BMI is 23.15"
   ]
  },
  {
   "cell_type": "code",
   "execution_count": 10,
   "metadata": {
    "id": "lE-JyyTnjcJU"
   },
   "outputs": [
    {
     "name": "stdout",
     "output_type": "stream",
     "text": [
      "Enter your Weight in KG: 70\n",
      "Enter your Height in ft: 5\n",
      "Height in cm: 152.40\n",
      "Height in Meter: 1.52\n",
      "---------------------------------\n",
      "Your BMI is: 30.14\n",
      "---------------------------------\n"
     ]
    }
   ],
   "source": [
    "weight = float(input(\"Enter your Weight in KG: \"))\n",
    "height = float(input(\"Enter your Height in ft: \"))\n",
    "\n",
    "cm_height = height * 30.48      #Convert height ft into cm\n",
    "print(f\"Height in cm:{cm_height: .2f}\")\n",
    "\n",
    "height_m = cm_height / 100     #convert height cm into meter\n",
    "print(f\"Height in Meter:{height_m: .2f}\")\n",
    "\n",
    "print('---------------------------------')\n",
    "\n",
    "bmi = weight / (height_m * height_m)  #BMI formulaa weight / height in Sq.meter \n",
    "print(f\"Your BMI is: {bmi:.2f}\")\n",
    "print('---------------------------------')"
   ]
  },
  {
   "cell_type": "markdown",
   "metadata": {
    "id": "11fYzZYid3qq"
   },
   "source": [
    "**List::**"
   ]
  },
  {
   "cell_type": "markdown",
   "metadata": {
    "id": "oUNnrKdyeOks"
   },
   "source": [
    "8. **Store the names of a few of your friends in a list called names**\n",
    "\n",
    " Print each person’s name by accessing each element in the list, one at a time."
   ]
  },
  {
   "cell_type": "code",
   "execution_count": 11,
   "metadata": {
    "id": "RY49qmHQeOGB"
   },
   "outputs": [
    {
     "name": "stdout",
     "output_type": "stream",
     "text": [
      "Waqar\n",
      "Ali\n",
      "ShahZaib\n",
      "Salman\n"
     ]
    }
   ],
   "source": [
    "names = [\"Waqar\", \"Ali\", \"ShahZaib\",\"Salman\"]\n",
    "for i in names:\n",
    "    print(i)"
   ]
  },
  {
   "cell_type": "markdown",
   "metadata": {
    "id": "HQe4CmBLd0a0"
   },
   "source": [
    "9. Start with the list you used in Question 4, but instead of just  printing each person’s name, print a message to them. The text of each message should be the same, but each message should be personalized with the\n",
    "person’s name."
   ]
  },
  {
   "cell_type": "code",
   "execution_count": 12,
   "metadata": {
    "id": "QfaA6SZieroG"
   },
   "outputs": [
    {
     "name": "stdout",
     "output_type": "stream",
     "text": [
      " Hello Waqar, How Are you? \n",
      " Hello Ali, How Are you? \n",
      " Hello ShahZaib, How Are you? \n",
      " Hello Salman, How Are you? \n"
     ]
    }
   ],
   "source": [
    "names = [\"Waqar\", \"Ali\", \"ShahZaib\",\"Salman\"]\n",
    "for i in names:\n",
    "    print(f\" Hello {i}, How Are you? \")"
   ]
  },
  {
   "cell_type": "markdown",
   "metadata": {
    "id": "3t-zoTSTesyI"
   },
   "source": [
    " 10.**Make a python program that conatains your nine favourite dishes in a list called foods.**\n",
    "Print the message, The first three items in the list are:\n",
    "\n",
    "Then use a slice to print the first three items from that program’s list.\n",
    "\n",
    "Print the message, Three items from the middle of the list are:\n",
    "\n",
    "Use a slice to print three items from the middle of the list.\n",
    "\n",
    "Print the message, The last three items in the list are:\n",
    "\n",
    "Use a slice to print the last three items in the list."
   ]
  },
  {
   "cell_type": "code",
   "execution_count": 13,
   "metadata": {
    "id": "ZpnPQbgAmQhu"
   },
   "outputs": [],
   "source": [
    "foods = [\"Biryani\", \"Seekh Kabab\", \"Pulao\", \"Malai Boti\", \"Chapli Kabab\", \"Korma\", \"Tandoori Chicken\", \"Broast\", \"Reshmi Kabab\"]"
   ]
  },
  {
   "cell_type": "code",
   "execution_count": 14,
   "metadata": {},
   "outputs": [
    {
     "name": "stdout",
     "output_type": "stream",
     "text": [
      "The First 03 Items in the List are: ['Biryani', 'Seekh Kabab', 'Pulao']\n"
     ]
    }
   ],
   "source": [
    "print(\"The First 03 Items in the List are:\", foods[0:3])"
   ]
  },
  {
   "cell_type": "code",
   "execution_count": 15,
   "metadata": {},
   "outputs": [
    {
     "name": "stdout",
     "output_type": "stream",
     "text": [
      "The Middle 03 Items in the List are: ['Malai Boti', 'Chapli Kabab', 'Korma']\n"
     ]
    }
   ],
   "source": [
    "print(\"The Middle 03 Items in the List are:\", foods[3:6])"
   ]
  },
  {
   "cell_type": "code",
   "execution_count": 16,
   "metadata": {},
   "outputs": [
    {
     "name": "stdout",
     "output_type": "stream",
     "text": [
      "The Last 03 Items in the List are: ['Tandoori Chicken', 'Broast', 'Reshmi Kabab']\n"
     ]
    }
   ],
   "source": [
    "print(\"The Last 03 Items in the List are:\", foods[6:])"
   ]
  },
  {
   "cell_type": "code",
   "execution_count": null,
   "metadata": {},
   "outputs": [],
   "source": []
  },
  {
   "cell_type": "markdown",
   "metadata": {
    "id": "h37WaaZKmRMe"
   },
   "source": [
    "11. **Start with your program from your last Question8.**\n",
    "Make a copy of the list of foods, and call it friend_foods.\n",
    "Then, do the following:\n",
    "\n",
    "Add a new dish to the original list.\n",
    "\n",
    "Add a different dish to the list friend_foods.\n",
    "\n",
    "Prove that you have two separate lists.\n",
    "\n",
    "Print the message, My favorite pizzas are: and then use a for loop to print the first list.\n",
    "\n",
    "Print the message,\n",
    "\n",
    "My friend’s favorite foods are:, and then use a for loop to print the second list.\n",
    "\n",
    "NOTE: Make sure each new dish is stored in the appropriate list."
   ]
  },
  {
   "cell_type": "code",
   "execution_count": 17,
   "metadata": {
    "id": "6FvxV2CioBQB"
   },
   "outputs": [],
   "source": [
    "foods = [\"Biryani\", \"Seekh Kabab\", \"Pulao\", \"Malai Boti\", \"Chapli Kabab\", \"Korma\", \"Tandoori Chicken\", \"Broast\", \"Reshmi Kabab\"]"
   ]
  },
  {
   "cell_type": "markdown",
   "metadata": {},
   "source": [
    "### Making New List from the Original Food List"
   ]
  },
  {
   "cell_type": "code",
   "execution_count": 18,
   "metadata": {},
   "outputs": [],
   "source": [
    "friends_foods = foods[::-1]   #Reversing the original List to make a new list"
   ]
  },
  {
   "cell_type": "code",
   "execution_count": 19,
   "metadata": {},
   "outputs": [
    {
     "name": "stdout",
     "output_type": "stream",
     "text": [
      "['Reshmi Kabab', 'Broast', 'Tandoori Chicken', 'Korma', 'Chapli Kabab', 'Malai Boti', 'Pulao', 'Seekh Kabab', 'Biryani']\n"
     ]
    }
   ],
   "source": [
    "print(friends_foods)"
   ]
  },
  {
   "cell_type": "markdown",
   "metadata": {},
   "source": [
    "### Adding New Dish in Both List"
   ]
  },
  {
   "cell_type": "code",
   "execution_count": 20,
   "metadata": {},
   "outputs": [],
   "source": [
    "foods.append(\"Pizza\")      #append the New Item in the original food List\n",
    "friends_foods.append(\"Gobi\")  #append the New Item in the friends foods list"
   ]
  },
  {
   "cell_type": "code",
   "execution_count": 21,
   "metadata": {},
   "outputs": [
    {
     "name": "stdout",
     "output_type": "stream",
     "text": [
      "['Biryani', 'Seekh Kabab', 'Pulao', 'Malai Boti', 'Chapli Kabab', 'Korma', 'Tandoori Chicken', 'Broast', 'Reshmi Kabab', 'Pizza']\n",
      "['Reshmi Kabab', 'Broast', 'Tandoori Chicken', 'Korma', 'Chapli Kabab', 'Malai Boti', 'Pulao', 'Seekh Kabab', 'Biryani', 'Gobi']\n"
     ]
    }
   ],
   "source": [
    "print(foods)\n",
    "print(friends_foods)"
   ]
  },
  {
   "cell_type": "code",
   "execution_count": 22,
   "metadata": {},
   "outputs": [],
   "source": [
    "## Checking the Both List , they are Same or Not"
   ]
  },
  {
   "cell_type": "code",
   "execution_count": 23,
   "metadata": {},
   "outputs": [
    {
     "name": "stdout",
     "output_type": "stream",
     "text": [
      "Both List are Different\n"
     ]
    }
   ],
   "source": [
    "if foods == friends_foods:\n",
    "    print(\"Both List are Same\")\n",
    "else:\n",
    "    print(\"Both List are Different\")"
   ]
  },
  {
   "cell_type": "code",
   "execution_count": 24,
   "metadata": {},
   "outputs": [
    {
     "name": "stdout",
     "output_type": "stream",
     "text": [
      "My Favorite Foods are: \n",
      "Biryani\n",
      "Seekh Kabab\n",
      "Pulao\n",
      "Malai Boti\n",
      "Chapli Kabab\n",
      "Korma\n",
      "Tandoori Chicken\n",
      "Broast\n",
      "Reshmi Kabab\n",
      "Pizza\n"
     ]
    }
   ],
   "source": [
    "print(\"My Favorite Foods are: \")\n",
    "for myfav in foods:\n",
    "    print(myfav)"
   ]
  },
  {
   "cell_type": "code",
   "execution_count": 25,
   "metadata": {},
   "outputs": [
    {
     "name": "stdout",
     "output_type": "stream",
     "text": [
      "My Friends Favorite Foods: \n",
      "Reshmi Kabab\n",
      "Broast\n",
      "Tandoori Chicken\n",
      "Korma\n",
      "Chapli Kabab\n",
      "Malai Boti\n",
      "Pulao\n",
      "Seekh Kabab\n",
      "Biryani\n",
      "Gobi\n"
     ]
    }
   ],
   "source": [
    "print(\"My Friends Favorite Foods: \")\n",
    "for myfriends in friends_foods:\n",
    "    print(myfriends)"
   ]
  },
  {
   "cell_type": "code",
   "execution_count": null,
   "metadata": {},
   "outputs": [],
   "source": []
  }
 ],
 "metadata": {
  "colab": {
   "collapsed_sections": [],
   "name": "Assignment.ipynb",
   "provenance": []
  },
  "kernelspec": {
   "display_name": "Python 3",
   "language": "python",
   "name": "python3"
  },
  "language_info": {
   "codemirror_mode": {
    "name": "ipython",
    "version": 3
   },
   "file_extension": ".py",
   "mimetype": "text/x-python",
   "name": "python",
   "nbconvert_exporter": "python",
   "pygments_lexer": "ipython3",
   "version": "3.11.1 (tags/v3.11.1:a7a450f, Dec  6 2022, 19:58:39) [MSC v.1934 64 bit (AMD64)]"
  },
  "vscode": {
   "interpreter": {
    "hash": "0feef0e1e3e5a3f2472db632a6a6c1299f4965094b819eb5cea40f64390ca82a"
   }
  }
 },
 "nbformat": 4,
 "nbformat_minor": 1
}
