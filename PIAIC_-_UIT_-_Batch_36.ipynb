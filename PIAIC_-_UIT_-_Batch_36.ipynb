{
 "cells": [
  {
   "cell_type": "markdown",
   "id": "50321092",
   "metadata": {},
   "source": [
    "# PIAIC - AIC Batch: 36 - UIT\n",
    "### DATE : 19 - 06 - 2022"
   ]
  },
  {
   "cell_type": "markdown",
   "id": "b1455d3c",
   "metadata": {},
   "source": [
    "# % 13 Trillion AI value creation by 2030                  \n",
    "## GOALS\n",
    "\n",
    "1. AI Terminology of NN, ML, DL, Data Science.\n",
    "2. What AI Can-- and cannot --do? \n",
    "3. How to spot opportunities to apply AI to problems in your own organization.\n",
    "4. What it feels like to build ML and Data Science Projects?\n",
    "5. How to work with an AI team and build an AI strategy in your company\n",
    "6. "
   ]
  },
  {
   "cell_type": "markdown",
   "id": "280c208b",
   "metadata": {},
   "source": [
    "### ANI -- Artificial Narrow Intelligence. (Lots of Progress)\n",
    "1. ANI - Single work / model detect -- ANI, any single task.\n",
    "\n",
    "### AGI -- Artifical General Intelligence. (Almost no Progress)\n",
    "2. AGI - Multi Narrow model makes -- AGI. multi tasks. "
   ]
  },
  {
   "cell_type": "markdown",
   "id": "b9e61b44",
   "metadata": {},
   "source": [
    "#### * Program has : Set of Instructions & Data.\n",
    "\n",
    "#### * Video Player has : Instruction, Data & Model.\n",
    "#### * BIG DATA has --- Variety, Velocity and Volume"
   ]
  },
  {
   "cell_type": "code",
   "execution_count": 1,
   "id": "b61bc487",
   "metadata": {},
   "outputs": [
    {
     "name": "stdout",
     "output_type": "stream",
     "text": [
      "Hello World\n"
     ]
    }
   ],
   "source": [
    "print(\"Hello World\")"
   ]
  },
  {
   "cell_type": "code",
   "execution_count": 2,
   "id": "bd61fdfd",
   "metadata": {},
   "outputs": [
    {
     "name": "stdout",
     "output_type": "stream",
     "text": [
      "Aamir Aziz\n"
     ]
    }
   ],
   "source": [
    "name = 'Aamir Aziz'\n",
    "print(name)"
   ]
  },
  {
   "cell_type": "markdown",
   "id": "82045b8f",
   "metadata": {},
   "source": [
    "# Applied for coursera course - AI for everyone. Andrew N.G. \n",
    "## from university email ...\n",
    "### ------------------------------------------------------------------------------------------------------------------------------"
   ]
  },
  {
   "cell_type": "markdown",
   "id": "d9fecb6b",
   "metadata": {},
   "source": [
    "# 25-06-2022  3rd Class. "
   ]
  },
  {
   "cell_type": "code",
   "execution_count": 3,
   "id": "602dd77e",
   "metadata": {},
   "outputs": [
    {
     "name": "stdout",
     "output_type": "stream",
     "text": [
      "22.0\n"
     ]
    }
   ],
   "source": [
    "num = 22.0 \n",
    "# num = \"pakistan\"\n",
    "print (num)"
   ]
  },
  {
   "cell_type": "code",
   "execution_count": 4,
   "id": "15207be8",
   "metadata": {},
   "outputs": [],
   "source": [
    "# statically & Dynamically programming languages \n",
    "# data types for number --> integr & float/double\n",
    "#  "
   ]
  },
  {
   "cell_type": "code",
   "execution_count": 5,
   "id": "c82771f0",
   "metadata": {},
   "outputs": [
    {
     "name": "stdout",
     "output_type": "stream",
     "text": [
      "72.0\n"
     ]
    }
   ],
   "source": [
    "print(num + 50)"
   ]
  },
  {
   "cell_type": "code",
   "execution_count": 6,
   "id": "f20a8ffb",
   "metadata": {},
   "outputs": [],
   "source": [
    "# num = int(input(\"print any num \"))"
   ]
  },
  {
   "cell_type": "code",
   "execution_count": 7,
   "id": "1811018e",
   "metadata": {},
   "outputs": [
    {
     "name": "stdout",
     "output_type": "stream",
     "text": [
      "<class 'float'>\n"
     ]
    }
   ],
   "source": [
    "num = num + num * 2 \n",
    "print(type(num))"
   ]
  },
  {
   "cell_type": "code",
   "execution_count": 8,
   "id": "feecd393",
   "metadata": {},
   "outputs": [
    {
     "name": "stdout",
     "output_type": "stream",
     "text": [
      "66.0\n"
     ]
    }
   ],
   "source": [
    "print(num)"
   ]
  },
  {
   "cell_type": "code",
   "execution_count": 9,
   "id": "56c72bb8",
   "metadata": {},
   "outputs": [
    {
     "name": "stdout",
     "output_type": "stream",
     "text": [
      "10\n"
     ]
    }
   ],
   "source": [
    "age  = 10\n",
    "print(age)"
   ]
  },
  {
   "cell_type": "code",
   "execution_count": 10,
   "id": "4d0ffae5",
   "metadata": {},
   "outputs": [
    {
     "name": "stdout",
     "output_type": "stream",
     "text": [
      "30\n",
      "10\n",
      "20\n",
      "10.0\n"
     ]
    }
   ],
   "source": [
    "age += 20\n",
    "print(age)\n",
    "age -= 20     \n",
    "print(age)\n",
    "age *= 2\n",
    "print(age)\n",
    "age /= 2\n",
    "print(age)"
   ]
  },
  {
   "cell_type": "markdown",
   "id": "8003084b",
   "metadata": {},
   "source": [
    "### Assignment - 01 -- Type Casting"
   ]
  },
  {
   "cell_type": "code",
   "execution_count": 5,
   "id": "be4141b0",
   "metadata": {},
   "outputs": [
    {
     "name": "stdout",
     "output_type": "stream",
     "text": [
      "\n",
      "After Casting\n",
      "Enter the Number 01: 4\n",
      "Enter the Number 02: 4\n",
      "\n",
      "Arithmetic Operators: \n",
      "Addition: 8 \n",
      "Subtraction: 0\n",
      "Multiplication: 16 \n",
      "Division: 1.0\n"
     ]
    }
   ],
   "source": [
    "# num_1 = input(\"Enter the Number 01: \")\n",
    "# num_2 = input(\"Enter the Number 02: \")\n",
    "# result = num_1 + num_2\n",
    "# print(\"without casting: \", result)\n",
    "\n",
    "## after casting \n",
    "print('\\nAfter Casting')\n",
    "num_3 = int(input(\"Enter the Number 01: \"))   # comment these two lines for intrupting\n",
    "num_4 = int(input(\"Enter the Number 02: \"))\n",
    "\n",
    "addition = num_3 + num_4\n",
    "subtraction = num_3 - num_4\n",
    "mul = num_3 * num_4\n",
    "division = num_3 / num_4\n",
    "\n",
    "\n",
    "print(\"\\nArithmetic Operators:\", \"\\nAddition:\", addition , '\\nSubtraction:', subtraction)\n",
    "print(\"Multiplication:\", mul , '\\nDivision:', division)"
   ]
  },
  {
   "cell_type": "markdown",
   "id": "4f88e6ad",
   "metadata": {},
   "source": [
    "### Assignment - 02 -- Concatenating (Hard Coded Variable + User Input)"
   ]
  },
  {
   "cell_type": "code",
   "execution_count": null,
   "id": "e09f3ed0",
   "metadata": {},
   "outputs": [],
   "source": [
    "greetings = \"Hello\"\n",
    "country = input(\"Your Country Name: \")\n",
    "print (greetings + '', country)"
   ]
  },
  {
   "cell_type": "markdown",
   "id": "59770826",
   "metadata": {},
   "source": [
    "### Assignment - 03 -- Markesheet"
   ]
  },
  {
   "cell_type": "code",
   "execution_count": 1,
   "id": "ec494630",
   "metadata": {},
   "outputs": [
    {
     "name": "stdout",
     "output_type": "stream",
     "text": [
      "ASSIGNMENT - 03 -- MARKSHEET\n",
      " Your Percentage is: 58.75 %\n"
     ]
    }
   ],
   "source": [
    "print(\"ASSIGNMENT - 03 -- MARKSHEET\")\n",
    "\n",
    "name = input(\"Enter Your Name: \")\n",
    "f_name = input(\"Enter Your Father Name: \")\n",
    "\n",
    "sub_1 = input(\"Enter the Subject 01:\")  \n",
    "mark_1 = int(input(\"Enter the \" + sub_1 + \" Marks: \"))\n",
    "               \n",
    "sub_2 = input(\"Enter the Subject 02: \") \n",
    "mark_2 = int(input(\"Enter the \" + sub_2 + \" Marks: \"))\n",
    "               \n",
    "sub_3 = input(\"Enter the Subject 03: \") \n",
    "mark_3 = int(input(\"Enter the \" + sub_3 + \" Marks: \"))\n",
    "               \n",
    "sub_4 = input(\"Enter the Subject 04: \") \n",
    "mark_4 = int(input(\"Enter the \" + sub_4 + \" Marks: \"))\n",
    "               \n",
    "totalmarks = mark_1 + mark_2 + mark_3 + mark_4\n",
    "per = totalmarks/400*100\n",
    "print(\" Your Percentage is:\", per,'%')"
   ]
  },
  {
   "cell_type": "markdown",
   "id": "cc3c2ce6",
   "metadata": {},
   "source": [
    "# CONDITIONAL STATEMENTS"
   ]
  },
  {
   "cell_type": "code",
   "execution_count": 4,
   "id": "0f91c440",
   "metadata": {},
   "outputs": [
    {
     "name": "stdout",
     "output_type": "stream",
     "text": [
      "r u a pakistani: y\n",
      "you r pakistni.\n",
      "enter your age ?16\n",
      "U r under age\n"
     ]
    }
   ],
   "source": [
    "a  = input(\"r u a pakistani: \")\n",
    "if a == 'y':\n",
    "    print(\"you r pakistni.\")\n",
    "    b= int(input('enter your age ?'))\n",
    "    if b>= 18: \n",
    "        print(\"caste ur vote\")\n",
    "    else:\n",
    "        print('U r under age')\n",
    "else:\n",
    "    print(\"you can't caste your vote\")"
   ]
  },
  {
   "cell_type": "markdown",
   "id": "1cb51ae7",
   "metadata": {},
   "source": [
    "# TASK - 01 -- git  --  read\n",
    "### ---------------------------------------------------------------------------------------------------------------"
   ]
  },
  {
   "cell_type": "markdown",
   "id": "fad0f08d",
   "metadata": {},
   "source": [
    "# 4th class --- dated: 03-07-2022\n",
    "\n",
    "## Topics : \n",
    "### 1. Conditional  statements.\n",
    "### 2. Nested if , elif and else staements."
   ]
  },
  {
   "cell_type": "code",
   "execution_count": null,
   "id": "d897be4b",
   "metadata": {},
   "outputs": [],
   "source": [
    "print (1  >= -1)     # greate\n",
    "print (2  <= 3)      # lessthan and equal \n",
    "print (2  != (1*2))  # Not equal"
   ]
  },
  {
   "cell_type": "code",
   "execution_count": null,
   "id": "1983bd0e",
   "metadata": {},
   "outputs": [],
   "source": [
    "per = float(input(\"Enter ur Percentage: \"))\n",
    "\n",
    "if per >= 85:\n",
    "    print(\"Grade A\")\n",
    "    \n",
    "elif per >=70:\n",
    "    print(\"Grade A-\")\n",
    "    \n",
    "elif per >=60:\n",
    "    print(\"Grade B\")\n",
    "    \n",
    "elif per >=50:\n",
    "    print(\"Grade B-\")\n",
    "else: \n",
    "    print(\"Fail\")"
   ]
  },
  {
   "cell_type": "markdown",
   "id": "05a4957e",
   "metadata": {},
   "source": [
    "# Boolean operators :\n",
    "## and , or , not"
   ]
  },
  {
   "cell_type": "code",
   "execution_count": 6,
   "id": "857f99ed",
   "metadata": {},
   "outputs": [
    {
     "data": {
      "text/plain": [
       "True"
      ]
     },
     "execution_count": 6,
     "metadata": {},
     "output_type": "execute_result"
    }
   ],
   "source": [
    "True and True  #and condition : both should be True "
   ]
  },
  {
   "cell_type": "code",
   "execution_count": 5,
   "id": "30799d7d",
   "metadata": {},
   "outputs": [
    {
     "data": {
      "text/plain": [
       "False"
      ]
     },
     "execution_count": 5,
     "metadata": {},
     "output_type": "execute_result"
    }
   ],
   "source": [
    "False and True"
   ]
  },
  {
   "cell_type": "code",
   "execution_count": 9,
   "id": "d018c07d",
   "metadata": {},
   "outputs": [
    {
     "data": {
      "text/plain": [
       "True"
      ]
     },
     "execution_count": 9,
     "metadata": {},
     "output_type": "execute_result"
    }
   ],
   "source": [
    "True or True  # or condition : one input should be true, either case "
   ]
  },
  {
   "cell_type": "code",
   "execution_count": 10,
   "id": "8d8149f3",
   "metadata": {},
   "outputs": [
    {
     "data": {
      "text/plain": [
       "True"
      ]
     },
     "execution_count": 10,
     "metadata": {},
     "output_type": "execute_result"
    }
   ],
   "source": [
    "True or False"
   ]
  },
  {
   "cell_type": "code",
   "execution_count": 8,
   "id": "ef782240",
   "metadata": {},
   "outputs": [
    {
     "data": {
      "text/plain": [
       "False"
      ]
     },
     "execution_count": 8,
     "metadata": {},
     "output_type": "execute_result"
    }
   ],
   "source": [
    "False or False"
   ]
  },
  {
   "cell_type": "code",
   "execution_count": 11,
   "id": "9f4044a8",
   "metadata": {},
   "outputs": [
    {
     "data": {
      "text/plain": [
       "False"
      ]
     },
     "execution_count": 11,
     "metadata": {},
     "output_type": "execute_result"
    }
   ],
   "source": [
    "False or (not True)   #not condition : invert the input "
   ]
  },
  {
   "cell_type": "code",
   "execution_count": 12,
   "id": "dcbb2110",
   "metadata": {},
   "outputs": [
    {
     "data": {
      "text/plain": [
       "True"
      ]
     },
     "execution_count": 12,
     "metadata": {},
     "output_type": "execute_result"
    }
   ],
   "source": [
    "False or (not False)"
   ]
  },
  {
   "cell_type": "code",
   "execution_count": 13,
   "id": "d5607706",
   "metadata": {},
   "outputs": [
    {
     "data": {
      "text/plain": [
       "True"
      ]
     },
     "execution_count": 13,
     "metadata": {},
     "output_type": "execute_result"
    }
   ],
   "source": [
    "True and (not False)"
   ]
  },
  {
   "cell_type": "code",
   "execution_count": null,
   "id": "48e89862",
   "metadata": {},
   "outputs": [],
   "source": [
    "# This rogram has much complexity\n",
    "\n",
    "age = int(input(\"Enter the Age: \"))\n",
    "gender = input(\"Enter ur Gender M/F: \")\n",
    "salary = float(input(\"Enter ur salary ($): \"))\n",
    "\n",
    "if age < 18 :\n",
    "    print(\"Under age\")\n",
    "    \n",
    "elif age >=60:\n",
    "    print(\"Issue Life Time Card\")\n",
    "    \n",
    "elif age >= 18 and salary >= 100000 and age < 30  and gender == 'M'  :\n",
    "    print(\"Issue short Expiry card\")\n",
    "    \n",
    "elif age >= 18 and salary == 0 and age <= 22 and gender == \"F\":\n",
    "    print(\"issue shorter expiry card\")\n",
    "    \n",
    "elif age >= 18 and salary == 0 and age <= 30 and gender == \"M\":\n",
    "    print(\"issue longer expiry card\")\n",
    "    \n",
    "else:\n",
    "    print(\"Issue a longer expiry card \")"
   ]
  },
  {
   "cell_type": "code",
   "execution_count": null,
   "id": "8f75e023",
   "metadata": {},
   "outputs": [],
   "source": [
    "# using Nested if , elif and else statments to reduce the program complexity.\n",
    "\n",
    "age = int(input(\"Enter the Age: \"))\n",
    "gender = input(\"Enter ur Gender M/F \")\n",
    "salary = float(input(\"Enter ur salary ($): \"))\n",
    "\n",
    "if age < 17 :\n",
    "    print(\"Under age!\")\n",
    "    \n",
    "elif gender == 'M':\n",
    "    if age <30 and salary == 0:\n",
    "        print('Issue short expiry card')\n",
    "else:\n",
    "    if age < 22:\n",
    "        print('short expiry card')\n",
    "    elif salary >= 10000 :\n",
    "        print(\"Issue a longer expiry card\")"
   ]
  },
  {
   "cell_type": "code",
   "execution_count": null,
   "id": "378c3ec8",
   "metadata": {},
   "outputs": [],
   "source": [
    "'''\n",
    "Multi line comments\n",
    "This is second line\n",
    "This is 3rd line\n",
    "'''"
   ]
  },
  {
   "cell_type": "markdown",
   "id": "fa57433f",
   "metadata": {},
   "source": [
    "# LIST:"
   ]
  },
  {
   "cell_type": "code",
   "execution_count": null,
   "id": "67db6fb3",
   "metadata": {},
   "outputs": [],
   "source": [
    "khi_temp = [10, 20, 20, 30, 40]\n",
    "\n",
    "print(khi_temp[4])    #<---------- index"
   ]
  },
  {
   "cell_type": "code",
   "execution_count": null,
   "id": "7462839a",
   "metadata": {},
   "outputs": [],
   "source": [
    "khi_temp = [10, 20, 20, 30, 40, 'karachi']\n",
    "\n",
    "print (\"before set the index\", khi_temp)\n",
    "\n",
    "khi_temp [4] = 45     #<---- set the value at specific position/index\n",
    "\n",
    "print(khi_temp[4])    \n",
    "\n",
    "print(\"after set the index\", khi_temp) "
   ]
  },
  {
   "cell_type": "code",
   "execution_count": null,
   "id": "03b22bce",
   "metadata": {},
   "outputs": [],
   "source": [
    "khi_temp.append(50)  #<-------- append fnction add the element in the last.\n",
    "print(khi_temp)      #<-- after every print fnction it wil add element multiple times."
   ]
  },
  {
   "cell_type": "code",
   "execution_count": null,
   "id": "f8158fb3",
   "metadata": {},
   "outputs": [],
   "source": [
    "khi_temp.insert(4, \"Islamabad\")  #<------ inserting fncton add the element at the speicific index.\n",
    "print(khi_temp)"
   ]
  },
  {
   "cell_type": "code",
   "execution_count": null,
   "id": "88b5599c",
   "metadata": {},
   "outputs": [],
   "source": [
    "khi_temp = [10, 20, 25, 30, 40, 'karachi']\n",
    "\n",
    "khi_temp[:2]"
   ]
  },
  {
   "cell_type": "code",
   "execution_count": null,
   "id": "e43ccf6a",
   "metadata": {},
   "outputs": [],
   "source": [
    "khi_temp[2:]"
   ]
  },
  {
   "cell_type": "code",
   "execution_count": null,
   "id": "4cb0f76a",
   "metadata": {},
   "outputs": [],
   "source": [
    "khi_temp[0:5]"
   ]
  },
  {
   "cell_type": "code",
   "execution_count": null,
   "id": "82b2a18e",
   "metadata": {},
   "outputs": [],
   "source": [
    "khi_temp[-5]"
   ]
  },
  {
   "cell_type": "code",
   "execution_count": null,
   "id": "551d50f9",
   "metadata": {},
   "outputs": [],
   "source": [
    "khi_temp[:-5]"
   ]
  },
  {
   "cell_type": "code",
   "execution_count": null,
   "id": "152f3e1d",
   "metadata": {},
   "outputs": [],
   "source": [
    "khi_temp[-5:]"
   ]
  },
  {
   "cell_type": "code",
   "execution_count": null,
   "id": "bbbbaf2b",
   "metadata": {},
   "outputs": [],
   "source": [
    "khi_temp = [10, 20, 25, 30, 40, 'karachi']\n",
    "\n",
    "del khi_temp[0:2]\n",
    "print(khi_temp)"
   ]
  },
  {
   "cell_type": "code",
   "execution_count": null,
   "id": "d18dd623",
   "metadata": {},
   "outputs": [],
   "source": [
    "khi_temp.remove(\"karachi\")    #<--- remove fnctn delete the specific value but not return the deleted element.\n",
    "print(khi_temp)"
   ]
  },
  {
   "cell_type": "code",
   "execution_count": null,
   "id": "99050629",
   "metadata": {},
   "outputs": [],
   "source": [
    "khi_temp.pop(0)  #<-- pop will remove the said element and also returns."
   ]
  },
  {
   "cell_type": "code",
   "execution_count": null,
   "id": "757b363f",
   "metadata": {},
   "outputs": [],
   "source": [
    "print(khi_temp)"
   ]
  },
  {
   "cell_type": "markdown",
   "id": "ec4dd034",
   "metadata": {},
   "source": [
    "# TUPLES - immutable data structure \n",
    "## insert , delete , append fnction not wroking in tupples."
   ]
  },
  {
   "cell_type": "code",
   "execution_count": 15,
   "id": "50058035",
   "metadata": {},
   "outputs": [],
   "source": [
    "pk_temp = (10, 15, 20, 25)"
   ]
  },
  {
   "cell_type": "code",
   "execution_count": 16,
   "id": "2e72977d",
   "metadata": {},
   "outputs": [
    {
     "name": "stdout",
     "output_type": "stream",
     "text": [
      "(10, 15, 20, 25)\n"
     ]
    }
   ],
   "source": [
    "print(pk_temp)"
   ]
  },
  {
   "cell_type": "code",
   "execution_count": 17,
   "id": "494c74ef",
   "metadata": {},
   "outputs": [
    {
     "ename": "TypeError",
     "evalue": "'tuple' object does not support item assignment",
     "output_type": "error",
     "traceback": [
      "\u001b[1;31m---------------------------------------------------------------------------\u001b[0m",
      "\u001b[1;31mTypeError\u001b[0m                                 Traceback (most recent call last)",
      "Input \u001b[1;32mIn [17]\u001b[0m, in \u001b[0;36m<cell line: 1>\u001b[1;34m()\u001b[0m\n\u001b[1;32m----> 1\u001b[0m pk_temp[\u001b[38;5;241m0\u001b[39m] \u001b[38;5;241m=\u001b[39m \u001b[38;5;241m5\u001b[39m\n",
      "\u001b[1;31mTypeError\u001b[0m: 'tuple' object does not support item assignment"
     ]
    }
   ],
   "source": [
    "pk_temp[0] = 5  #<--- not overwrite "
   ]
  },
  {
   "cell_type": "code",
   "execution_count": 18,
   "id": "813e51d6",
   "metadata": {},
   "outputs": [
    {
     "name": "stdout",
     "output_type": "stream",
     "text": [
      "(10, 15, 20, 25)\n"
     ]
    }
   ],
   "source": [
    "print(pk_temp)"
   ]
  },
  {
   "cell_type": "code",
   "execution_count": 19,
   "id": "a12360a5",
   "metadata": {},
   "outputs": [
    {
     "name": "stdout",
     "output_type": "stream",
     "text": [
      "10\n",
      "15\n",
      "20\n",
      "25\n"
     ]
    }
   ],
   "source": [
    "for i in pk_temp:\n",
    "    print(i)"
   ]
  },
  {
   "cell_type": "markdown",
   "id": "a7c111c4",
   "metadata": {},
   "source": [
    "# To find the minimum value in the list and tupple :"
   ]
  },
  {
   "cell_type": "code",
   "execution_count": null,
   "id": "1b72704d",
   "metadata": {},
   "outputs": [],
   "source": [
    "numbers = [10, 20, 30, -1, -4, -10 ]\n",
    "min_val = numbers[0]\n",
    "for val in numbers :\n",
    "    if val < min_val:\n",
    "        \n",
    "        min_val = val\n",
    "        \n",
    "print(min_val)"
   ]
  },
  {
   "cell_type": "code",
   "execution_count": null,
   "id": "3dc5c2c0",
   "metadata": {},
   "outputs": [],
   "source": [
    "numbers = (10, 20, 30, -1, -4, -10 )\n",
    "min_val = numbers[0]\n",
    "for val in numbers :\n",
    "    if val < min_val:\n",
    "        \n",
    "        min_val = val\n",
    "        \n",
    "print(min_val)"
   ]
  },
  {
   "cell_type": "markdown",
   "id": "60cd81df",
   "metadata": {},
   "source": [
    "# TASK:  \n",
    "## find Maximum Value , average , check the repeated value.\n",
    "## conversion decimal into binary."
   ]
  },
  {
   "cell_type": "code",
   "execution_count": null,
   "id": "ea5a97ee",
   "metadata": {},
   "outputs": [],
   "source": [
    "#MAX Value\n",
    "numbers = (10, 20, 30, -1, -4, -10 )\n",
    "max_val = numbers[0]\n",
    "for val in numbers :\n",
    "    if val > max_val:\n",
    "        \n",
    "        max_val = val\n",
    "        \n",
    "print(max_val)"
   ]
  },
  {
   "cell_type": "markdown",
   "id": "bfbe0490",
   "metadata": {},
   "source": [
    "# 5th CLASS -- dated: 17-07-2022 \n",
    "## websites  to check\n",
    "### 1. hackerrank , 2. codilitiy, 3. leetcode"
   ]
  },
  {
   "cell_type": "markdown",
   "id": "1e157236",
   "metadata": {},
   "source": [
    "UTF = 8  \n",
    "UTF = 16  -- Multibytes"
   ]
  },
  {
   "cell_type": "code",
   "execution_count": null,
   "id": "3e7c0d03",
   "metadata": {},
   "outputs": [],
   "source": [
    "a = 2**16\n",
    "\n",
    "a"
   ]
  },
  {
   "cell_type": "code",
   "execution_count": 12,
   "id": "005f03c7",
   "metadata": {},
   "outputs": [
    {
     "name": "stdout",
     "output_type": "stream",
     "text": [
      "['A', 'A', 'A']\n",
      "['B', 'C', 'A']\n",
      "['D', 'D', 'E']\n"
     ]
    }
   ],
   "source": [
    "x = (\"AAABCADDE\")\n",
    "lst = list(x)\n",
    "\n",
    "list_1 = lst[0:3]\n",
    "list_2 = lst[3:6]\n",
    "list_3 = lst[6:]\n",
    "\n",
    "print(list_1)\n",
    "print(list_2)\n",
    "print(list_3)"
   ]
  },
  {
   "cell_type": "code",
   "execution_count": 13,
   "id": "9deb9b0a",
   "metadata": {},
   "outputs": [
    {
     "name": "stdout",
     "output_type": "stream",
     "text": [
      "['A', 'A', 'A'] \n",
      " ['B', 'C', 'A'] \n",
      " ['D', 'D', 'E'] \n",
      " ['A', 'A', 'A', 'B', 'C'] \n",
      " ['A', 'D', 'D', 'E']\n"
     ]
    }
   ],
   "source": [
    "#x = [\"A\",\"A\",\"A\",\"B\",\"C\",\"A\",\"D\",\"D\",\"E\"]\n",
    "x = (\"AAABCADDE\")\n",
    "lst = list(x)\n",
    "\n",
    "list_1 = lst[:3]\n",
    "list_2 = lst[3:6]\n",
    "list_3 = lst[6:]\n",
    "list_4 = lst[:5]\n",
    "list_5 = lst[5:]\n",
    "print(list_1,'\\n',list_2,'\\n',list_3,'\\n', list_4,'\\n', list_5)"
   ]
  },
  {
   "cell_type": "markdown",
   "id": "4b6e4286",
   "metadata": {},
   "source": [
    "# LOOP PRACTICE"
   ]
  },
  {
   "cell_type": "code",
   "execution_count": 20,
   "id": "5a90ecbc",
   "metadata": {},
   "outputs": [
    {
     "name": "stdout",
     "output_type": "stream",
     "text": [
      "Its one of the Cleanest Citis\n"
     ]
    }
   ],
   "source": [
    "city_to_check = \"HYD\"\n",
    "cleanest_cities = [\"Lahore\", \"HYD\", \"Sukkhur\"]\n",
    "\n",
    "# use plurals for list and singular as variable name\n",
    "#sytax - for loop\n",
    "#for <variable> in <list>\n",
    "#variable will contain a single value in each iteration\n",
    "# i.e: first iteration, first value, second iteration secnd value and so on...\n",
    "\n",
    "for clean_city in cleanest_cities:\n",
    "    if city_to_check == clean_city:\n",
    "        print(\"Its one of the Cleanest Citis\")\n",
    "        break\n",
    "else:\n",
    "    print(\"not found\")\n",
    "        "
   ]
  },
  {
   "cell_type": "code",
   "execution_count": 21,
   "id": "fbc5fe78",
   "metadata": {},
   "outputs": [
    {
     "name": "stdout",
     "output_type": "stream",
     "text": [
      "['Karachi', 'Sukkhur', 'Larkana']\n"
     ]
    }
   ],
   "source": [
    "cities = [\"Karachi\", \"Hyderabad\", \"Islamabad\", \"Sukkhur\", \"Larkana\", \"Lahore\", \"Quetta\", \"Daddu\", \"Thatta\",\" Sawat\"]\n",
    "\n",
    "k =[]\n",
    "# not_k_in_cities = []\n",
    "\n",
    "for i in cities:\n",
    "    if \"k\" in i:\n",
    "        k.append(i)\n",
    "    elif 'K' in i:\n",
    "        k.append(i)\n",
    "#     else:\n",
    "#         not_k_in_cities.append(i)\n",
    "        \n",
    "# print(not_k_in_cities)\n",
    "\n",
    "print(k)"
   ]
  },
  {
   "cell_type": "code",
   "execution_count": 69,
   "id": "54e39f4f",
   "metadata": {},
   "outputs": [
    {
     "name": "stdout",
     "output_type": "stream",
     "text": [
      "['Hyderabad', 'Islamabad', 'Lahore', 'Quetta', 'Daddu', 'Thatta', ' Sawat']\n"
     ]
    }
   ],
   "source": [
    "cities = [\"karachi\", \"Hyderabad\", \"Islamabad\", \"Sukkhur\", \"Larkana\", \"Lahore\", \"Quetta\", \"Daddu\", \"Thatta\",\" Sawat\"]\n",
    "\n",
    "not_k_in_cities = []\n",
    "\n",
    "for i in cities:\n",
    "    if not \"k\" in i:\n",
    "        not_k_in_cities.append(i)\n",
    "        \n",
    "print(not_k_in_cities)\n"
   ]
  },
  {
   "cell_type": "code",
   "execution_count": null,
   "id": "9532fbbd",
   "metadata": {},
   "outputs": [],
   "source": []
  }
 ],
 "metadata": {
  "kernelspec": {
   "display_name": "Python 3",
   "language": "python",
   "name": "python3"
  },
  "language_info": {
   "codemirror_mode": {
    "name": "ipython",
    "version": 3
   },
   "file_extension": ".py",
   "mimetype": "text/x-python",
   "name": "python",
   "nbconvert_exporter": "python",
   "pygments_lexer": "ipython3",
   "version": "3.11.1 (tags/v3.11.1:a7a450f, Dec  6 2022, 19:58:39) [MSC v.1934 64 bit (AMD64)]"
  },
  "vscode": {
   "interpreter": {
    "hash": "0feef0e1e3e5a3f2472db632a6a6c1299f4965094b819eb5cea40f64390ca82a"
   }
  }
 },
 "nbformat": 4,
 "nbformat_minor": 5
}
